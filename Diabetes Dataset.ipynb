{
 "cells": [
  {
   "cell_type": "code",
   "execution_count": 2,
   "metadata": {},
   "outputs": [],
   "source": [
    "from sklearn.model_selection import train_test_split\n",
    "from sklearn import tree   \n",
    "from sklearn.tree import DecisionTreeClassifier\n",
    "from sklearn.metrics import accuracy_score\n",
    "from matplotlib import pyplot as plt\n",
    "from sklearn import datasets\n",
    "import numpy as np\n",
    "from sklearn.model_selection import train_test_split\n",
    "from sklearn.linear_model import LinearRegression\n",
    "\n",
    "from sklearn.metrics import mean_squared_error\n",
    "from sklearn import metrics"
   ]
  },
  {
   "cell_type": "code",
   "execution_count": 3,
   "metadata": {},
   "outputs": [],
   "source": [
    "import pandas as pd\n",
    "\n",
    "diabetes_df = pd.read_csv (r'D:\\AI python\\Diabetes dataset\\diabetes.csv', sep = ',')"
   ]
  },
  {
   "cell_type": "code",
   "execution_count": 4,
   "metadata": {},
   "outputs": [
    {
     "name": "stdout",
     "output_type": "stream",
     "text": [
      "Pregnancies - 0\n",
      "Glucose - 0\n",
      "BloodPressure - 0\n",
      "SkinThickness - 0\n",
      "Insulin - 0\n",
      "BMI - 0\n",
      "DiabetesPedigreeFunction - 0\n",
      "Age - 0\n",
      "Outcome - 0\n"
     ]
    }
   ],
   "source": [
    "column_names = diabetes_df.columns\n",
    "for column in column_names:\n",
    "    print(column + ' - ' + str(diabetes_df[column].isnull().sum()))"
   ]
  },
  {
   "cell_type": "code",
   "execution_count": 5,
   "metadata": {},
   "outputs": [
    {
     "data": {
      "text/html": [
       "<div>\n",
       "<style scoped>\n",
       "    .dataframe tbody tr th:only-of-type {\n",
       "        vertical-align: middle;\n",
       "    }\n",
       "\n",
       "    .dataframe tbody tr th {\n",
       "        vertical-align: top;\n",
       "    }\n",
       "\n",
       "    .dataframe thead th {\n",
       "        text-align: right;\n",
       "    }\n",
       "</style>\n",
       "<table border=\"1\" class=\"dataframe\">\n",
       "  <thead>\n",
       "    <tr style=\"text-align: right;\">\n",
       "      <th></th>\n",
       "      <th>Pregnancies</th>\n",
       "      <th>Glucose</th>\n",
       "      <th>BloodPressure</th>\n",
       "      <th>SkinThickness</th>\n",
       "      <th>Insulin</th>\n",
       "      <th>BMI</th>\n",
       "      <th>DiabetesPedigreeFunction</th>\n",
       "      <th>Age</th>\n",
       "      <th>Outcome</th>\n",
       "    </tr>\n",
       "  </thead>\n",
       "  <tbody>\n",
       "    <tr>\n",
       "      <th>Pregnancies</th>\n",
       "      <td>1.000000</td>\n",
       "      <td>0.129459</td>\n",
       "      <td>0.141282</td>\n",
       "      <td>-0.081672</td>\n",
       "      <td>-0.073535</td>\n",
       "      <td>0.017683</td>\n",
       "      <td>-0.033523</td>\n",
       "      <td>0.544341</td>\n",
       "      <td>0.221898</td>\n",
       "    </tr>\n",
       "    <tr>\n",
       "      <th>Glucose</th>\n",
       "      <td>0.129459</td>\n",
       "      <td>1.000000</td>\n",
       "      <td>0.152590</td>\n",
       "      <td>0.057328</td>\n",
       "      <td>0.331357</td>\n",
       "      <td>0.221071</td>\n",
       "      <td>0.137337</td>\n",
       "      <td>0.263514</td>\n",
       "      <td>0.466581</td>\n",
       "    </tr>\n",
       "    <tr>\n",
       "      <th>BloodPressure</th>\n",
       "      <td>0.141282</td>\n",
       "      <td>0.152590</td>\n",
       "      <td>1.000000</td>\n",
       "      <td>0.207371</td>\n",
       "      <td>0.088933</td>\n",
       "      <td>0.281805</td>\n",
       "      <td>0.041265</td>\n",
       "      <td>0.239528</td>\n",
       "      <td>0.065068</td>\n",
       "    </tr>\n",
       "    <tr>\n",
       "      <th>SkinThickness</th>\n",
       "      <td>-0.081672</td>\n",
       "      <td>0.057328</td>\n",
       "      <td>0.207371</td>\n",
       "      <td>1.000000</td>\n",
       "      <td>0.436783</td>\n",
       "      <td>0.392573</td>\n",
       "      <td>0.183928</td>\n",
       "      <td>-0.113970</td>\n",
       "      <td>0.074752</td>\n",
       "    </tr>\n",
       "    <tr>\n",
       "      <th>Insulin</th>\n",
       "      <td>-0.073535</td>\n",
       "      <td>0.331357</td>\n",
       "      <td>0.088933</td>\n",
       "      <td>0.436783</td>\n",
       "      <td>1.000000</td>\n",
       "      <td>0.197859</td>\n",
       "      <td>0.185071</td>\n",
       "      <td>-0.042163</td>\n",
       "      <td>0.130548</td>\n",
       "    </tr>\n",
       "    <tr>\n",
       "      <th>BMI</th>\n",
       "      <td>0.017683</td>\n",
       "      <td>0.221071</td>\n",
       "      <td>0.281805</td>\n",
       "      <td>0.392573</td>\n",
       "      <td>0.197859</td>\n",
       "      <td>1.000000</td>\n",
       "      <td>0.140647</td>\n",
       "      <td>0.036242</td>\n",
       "      <td>0.292695</td>\n",
       "    </tr>\n",
       "    <tr>\n",
       "      <th>DiabetesPedigreeFunction</th>\n",
       "      <td>-0.033523</td>\n",
       "      <td>0.137337</td>\n",
       "      <td>0.041265</td>\n",
       "      <td>0.183928</td>\n",
       "      <td>0.185071</td>\n",
       "      <td>0.140647</td>\n",
       "      <td>1.000000</td>\n",
       "      <td>0.033561</td>\n",
       "      <td>0.173844</td>\n",
       "    </tr>\n",
       "    <tr>\n",
       "      <th>Age</th>\n",
       "      <td>0.544341</td>\n",
       "      <td>0.263514</td>\n",
       "      <td>0.239528</td>\n",
       "      <td>-0.113970</td>\n",
       "      <td>-0.042163</td>\n",
       "      <td>0.036242</td>\n",
       "      <td>0.033561</td>\n",
       "      <td>1.000000</td>\n",
       "      <td>0.238356</td>\n",
       "    </tr>\n",
       "    <tr>\n",
       "      <th>Outcome</th>\n",
       "      <td>0.221898</td>\n",
       "      <td>0.466581</td>\n",
       "      <td>0.065068</td>\n",
       "      <td>0.074752</td>\n",
       "      <td>0.130548</td>\n",
       "      <td>0.292695</td>\n",
       "      <td>0.173844</td>\n",
       "      <td>0.238356</td>\n",
       "      <td>1.000000</td>\n",
       "    </tr>\n",
       "  </tbody>\n",
       "</table>\n",
       "</div>"
      ],
      "text/plain": [
       "                          Pregnancies   Glucose  BloodPressure  SkinThickness  \\\n",
       "Pregnancies                  1.000000  0.129459       0.141282      -0.081672   \n",
       "Glucose                      0.129459  1.000000       0.152590       0.057328   \n",
       "BloodPressure                0.141282  0.152590       1.000000       0.207371   \n",
       "SkinThickness               -0.081672  0.057328       0.207371       1.000000   \n",
       "Insulin                     -0.073535  0.331357       0.088933       0.436783   \n",
       "BMI                          0.017683  0.221071       0.281805       0.392573   \n",
       "DiabetesPedigreeFunction    -0.033523  0.137337       0.041265       0.183928   \n",
       "Age                          0.544341  0.263514       0.239528      -0.113970   \n",
       "Outcome                      0.221898  0.466581       0.065068       0.074752   \n",
       "\n",
       "                           Insulin       BMI  DiabetesPedigreeFunction  \\\n",
       "Pregnancies              -0.073535  0.017683                 -0.033523   \n",
       "Glucose                   0.331357  0.221071                  0.137337   \n",
       "BloodPressure             0.088933  0.281805                  0.041265   \n",
       "SkinThickness             0.436783  0.392573                  0.183928   \n",
       "Insulin                   1.000000  0.197859                  0.185071   \n",
       "BMI                       0.197859  1.000000                  0.140647   \n",
       "DiabetesPedigreeFunction  0.185071  0.140647                  1.000000   \n",
       "Age                      -0.042163  0.036242                  0.033561   \n",
       "Outcome                   0.130548  0.292695                  0.173844   \n",
       "\n",
       "                               Age   Outcome  \n",
       "Pregnancies               0.544341  0.221898  \n",
       "Glucose                   0.263514  0.466581  \n",
       "BloodPressure             0.239528  0.065068  \n",
       "SkinThickness            -0.113970  0.074752  \n",
       "Insulin                  -0.042163  0.130548  \n",
       "BMI                       0.036242  0.292695  \n",
       "DiabetesPedigreeFunction  0.033561  0.173844  \n",
       "Age                       1.000000  0.238356  \n",
       "Outcome                   0.238356  1.000000  "
      ]
     },
     "execution_count": 5,
     "metadata": {},
     "output_type": "execute_result"
    }
   ],
   "source": [
    "diabetes_df.corr()"
   ]
  },
  {
   "cell_type": "code",
   "execution_count": 6,
   "metadata": {},
   "outputs": [],
   "source": [
    "import numpy as np\n",
    "from sklearn.model_selection import train_test_split\n",
    "input\n",
    "\n",
    "x = diabetes_df[\"Insulin\"]\n",
    "y = diabetes_df[\"Glucose\"]\n",
    "\n",
    "x_train, x_test, y_train, y_test = train_test_split(x, y, test_size = 0.20, random_state = 30)"
   ]
  },
  {
   "cell_type": "code",
   "execution_count": 7,
   "metadata": {},
   "outputs": [
    {
     "name": "stdout",
     "output_type": "stream",
     "text": [
      "score:0.0\n"
     ]
    }
   ],
   "source": [
    "x = diabetes_df[\"Insulin\"].values.reshape(-1, 1)\n",
    "y = diabetes_df[\"Glucose\"].values.reshape(-1, 1)\n",
    "\n",
    "x_train, x_test, y_train, y_test = train_test_split(x, y, test_size = 0.20, random_state = 30)\n",
    "\n",
    "tree = tree.DecisionTreeClassifier()  \n",
    "tree.fit(x_train, y_train)   \n",
    "y_pred = tree.predict(x_test)   \n",
    "print(\"score:{}\".format(accuracy_score(y_test, y_pred)))"
   ]
  },
  {
   "cell_type": "code",
   "execution_count": 9,
   "metadata": {},
   "outputs": [
    {
     "name": "stdout",
     "output_type": "stream",
     "text": [
      "MSE 811.7993016993248\n",
      "R squared 0.20958976711411892\n"
     ]
    }
   ],
   "source": [
    "x = diabetes_df[[\"Insulin\", \"BloodPressure\", \"BMI\", \"Age\"]]\n",
    "y = diabetes_df[\"Glucose\"]\n",
    "\n",
    "x_train, x_test, y_train, y_test = train_test_split(x, y, test_size = 0.20, random_state = 30)\n",
    "\n",
    "model = LinearRegression()   \n",
    "model.fit(x_train,y_train)  \n",
    "predicted = model.predict(x_test) \n",
    "\n",
    "\n",
    "print(\"MSE\", mean_squared_error(y_test,predicted))\n",
    "print(\"R squared\", metrics.r2_score(y_test,predicted))"
   ]
  },
  {
   "cell_type": "code",
   "execution_count": 16,
   "metadata": {},
   "outputs": [
    {
     "data": {
      "image/png": "[encoded data removed]",
      "text/plain": [
       "<Figure size 432x288 with 1 Axes>"
      ]
     },
     "metadata": {
      "needs_background": "light"
     },
     "output_type": "display_data"
    }
   ],
   "source": [
    "plt.scatter(x[\"Insulin\"],y,color=\"r\")\n",
    "plt.title(\"Linear Regression\")\n",
    "plt.ylabel(\"Glucose\")\n",
    "plt.xlabel(\"Insulin\")\n",
    "x_plot = sorted(x[\"Insulin\"])\n",
    "plt.plot(x_plot,model.predict(x),color=\"k\")\n",
    "\n",
    "plt.show()"
   ]
  },
  {
   "cell_type": "code",
   "execution_count": 10,
   "metadata": {},
   "outputs": [
    {
     "data": {
      "text/plain": [
       "Pipeline(steps=[('polynomial', PolynomialFeatures()),\n",
       "                ('diabetes_df', LinearRegression())])"
      ]
     },
     "execution_count": 10,
     "metadata": {},
     "output_type": "execute_result"
    }
   ],
   "source": [
    "from sklearn.preprocessing import PolynomialFeatures\n",
    "\n",
    "from sklearn.pipeline import Pipeline\n",
    "\n",
    "Input=[('polynomial',PolynomialFeatures(degree=2)),('diabetes_df',LinearRegression())]\n",
    "pipe = Pipeline(Input)\n",
    "pipe.fit(x,y)"
   ]
  },
  {
   "cell_type": "code",
   "execution_count": 11,
   "metadata": {},
   "outputs": [
    {
     "name": "stdout",
     "output_type": "stream",
     "text": [
      "MSE 809.9063288919068\n",
      "R squared 0.21143286438511433\n"
     ]
    }
   ],
   "source": [
    "poly_pred = pipe.predict(x_test)\n",
    "\n",
    "print(\"MSE\", mean_squared_error(y_test,poly_pred))\n",
    "print(\"R squared\", metrics.r2_score(y_test,poly_pred))"
   ]
  },
  {
   "cell_type": "code",
   "execution_count": 55,
   "metadata": {},
   "outputs": [
    {
     "data": {
      "text/plain": [
       "array([114.4293769 , 126.36183918, 114.4293769 , 114.4293769 ,\n",
       "       114.4293769 , 118.08456283, 114.4293769 , 114.4293769 ,\n",
       "       130.42177886, 120.84421972, 123.20728264, 119.18273763,\n",
       "       114.4293769 , 128.27058144, 114.4293769 , 122.88571388,\n",
       "       128.27058144, 120.15721709, 130.97081732, 114.4293769 ,\n",
       "       120.92117774, 114.4293769 , 114.4293769 , 114.4293769 ,\n",
       "       114.4293769 , 124.84509736, 114.4293769 , 114.4293769 ,\n",
       "       114.4293769 , 114.4293769 , 122.80563389, 124.84509736,\n",
       "       129.51670508, 120.84421972, 114.4293769 , 138.82284718,\n",
       "       114.4293769 , 114.4293769 , 114.4293769 , 118.30194997,\n",
       "       125.51420968, 119.10865183, 114.4293769 , 114.4293769 ,\n",
       "       114.4293769 , 126.1062391 , 114.4293769 , 114.4293769 ,\n",
       "       114.4293769 , 114.4293769 , 114.4293769 , 114.4293769 ,\n",
       "       114.4293769 , 114.4293769 , 114.4293769 , 122.01170231,\n",
       "       114.4293769 , 122.56614319, 120.61409494, 114.4293769 ,\n",
       "       114.4293769 , 118.30194997, 132.92785507, 114.4293769 ,\n",
       "       118.37466211, 121.15280108, 136.80789826, 139.74587089,\n",
       "       114.4293769 , 114.4293769 , 114.4293769 , 127.48242692,\n",
       "       126.19131425, 114.4293769 , 122.01170231, 114.4293769 ,\n",
       "       114.4293769 , 119.33128388, 168.49105237, 121.61941948,\n",
       "       114.4293769 , 141.62226387, 128.09456184, 114.4293769 ,\n",
       "       114.4293769 , 114.4293769 , 117.15553928, 114.4293769 ,\n",
       "       117.79646161, 114.4293769 , 114.4293769 , 118.81355739,\n",
       "       143.43156426, 114.4293769 , 130.0582508 , 114.4293769 ,\n",
       "       121.15280108, 130.97081732, 132.36308188, 126.96261012,\n",
       "       130.0582508 , 118.15690033, 124.84509736, 114.4293769 ,\n",
       "       114.4293769 , 127.39547859, 114.4293769 , 114.4293769 ,\n",
       "       119.70483489, 114.4293769 , 124.43096072, 124.43096072,\n",
       "       114.4293769 , 134.74596225, 122.01170231, 122.80563389,\n",
       "       114.4293769 , 114.4293769 , 123.61205336, 126.96261012,\n",
       "       114.4293769 , 130.97081732, 114.4293769 , 114.4293769 ,\n",
       "       114.4293769 , 114.4293769 , 119.0346909 , 117.79646161,\n",
       "       118.22936271, 116.1098136 , 120.99826064, 122.40710711,\n",
       "       124.43096072, 116.38592644, 114.4293769 , 122.80563389,\n",
       "       124.18397728, 114.4293769 , 120.00592351, 114.4293769 ,\n",
       "       114.4293769 , 114.4293769 , 114.4293769 , 114.4293769 ,\n",
       "       120.46130281, 114.4293769 , 130.0582508 , 114.4293769 ,\n",
       "       119.62987493, 114.4293769 , 160.33053469, 114.4293769 ,\n",
       "       160.07958776, 114.4293769 ])"
      ]
     },
     "execution_count": 55,
     "metadata": {},
     "output_type": "execute_result"
    }
   ],
   "source": [
    "poly_pred"
   ]
  },
  {
   "cell_type": "code",
   "execution_count": 58,
   "metadata": {},
   "outputs": [
    {
     "data": {
      "image/png": "[encoded data removed]",
      "text/plain": [
       "<Figure size 720x504 with 1 Axes>"
      ]
     },
     "metadata": {
      "needs_background": "light"
     },
     "output_type": "display_data"
    }
   ],
   "source": [
    "import matplotlib.pyplot as plt\n",
    "import scipy.cluster.hierarchy as shc\n",
    "plt.figure(figsize=(10,7))\n",
    "plt.title(\"Customer Dendrograms\")\n",
    "dend=shc.dendrogram(shc.linkage(diabetes_df, method=\"complete\"),10,  \"level\")"
   ]
  },
  {
   "cell_type": "code",
   "execution_count": null,
   "metadata": {},
   "outputs": [],
   "source": []
  }
 ],
 "metadata": {
  "kernelspec": {
   "display_name": "Python 3",
   "language": "python",
   "name": "python3"
  },
  "language_info": {
   "codemirror_mode": {
    "name": "ipython",
    "version": 3
   },
   "file_extension": ".py",
   "mimetype": "text/x-python",
   "name": "python",
   "nbconvert_exporter": "python",
   "pygments_lexer": "ipython3",
   "version": "3.8.5"
  }
 },
 "nbformat": 4,
 "nbformat_minor": 4
}
