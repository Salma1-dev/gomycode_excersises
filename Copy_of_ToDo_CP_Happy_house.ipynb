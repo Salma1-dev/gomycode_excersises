{
  "nbformat": 4,
  "nbformat_minor": 0,
  "metadata": {
    "colab": {
      "name": "Copy of ToDo_CP_Happy_house.ipynb",
      "provenance": [],
      "collapsed_sections": [],
      "include_colab_link": true
    },
    "kernelspec": {
      "name": "python3",
      "display_name": "Python 3"
    }
  },
  "cells": [
    {
      "cell_type": "markdown",
      "metadata": {
        "id": "view-in-github",
        "colab_type": "text"
      },
      "source": [
        "<a href=\"https://colab.research.google.com/github/Salma1-dev/gomycode_excersises/blob/main/Copy_of_ToDo_CP_Happy_house.ipynb\" target=\"_parent\"><img src=\"https://colab.research.google.com/assets/colab-badge.svg\" alt=\"Open In Colab\"/></a>"
      ]
    },
    {
      "cell_type": "markdown",
      "metadata": {
        "id": "2th5H5b1hbcS"
      },
      "source": [
        "# If you happy and I know it you can enter my House \n",
        "\n",
        "You'll see how you can in a couple of hours build a deep learning algorithm."
      ]
    },
    {
      "cell_type": "code",
      "metadata": {
        "id": "MuU-RPhvflcW"
      },
      "source": [
        "import numpy as np\n",
        "from sklearn.metrics import confusion_matrix\n",
        "import seaborn as sns\n",
        "import h5py\n",
        "from keras import layers\n",
        "from keras.layers import Input, Dense, Activation, ZeroPadding2D, BatchNormalization, Flatten, Conv2D\n",
        "from keras.layers import AveragePooling2D, MaxPooling2D, Dropout, GlobalMaxPooling2D, GlobalAveragePooling2D\n",
        "from keras.models import Model\n",
        "from keras.preprocessing import image\n",
        "from keras.utils import layer_utils\n",
        "from keras.utils.data_utils import get_file\n",
        "from keras.applications.imagenet_utils import preprocess_input\n",
        "from keras.models import Sequential\n",
        "\n",
        "import pydot\n",
        "from IPython.display import SVG\n",
        "\n",
        "\n",
        "import keras.backend as K\n",
        "K.set_image_data_format('channels_last')\n",
        "import matplotlib.pyplot as plt\n",
        "from matplotlib.pyplot import imshow\n"
      ],
      "execution_count": 1,
      "outputs": []
    },
    {
      "cell_type": "code",
      "metadata": {
        "id": "KCFmAvQQ2I87",
        "colab": {
          "base_uri": "https://localhost:8080/"
        },
        "outputId": "e9a99d63-62b9-4feb-cdb9-ddc5eb6a7010"
      },
      "source": [
        "!gdown --id 1ZNGQnM8l8x0IZGqqjt7hE6dOD4oIAmoI\n",
        "!gdown --id 1EjaiAT-L0qU_x2XkwyCXGr8N8SLXFDmU"
      ],
      "execution_count": 2,
      "outputs": [
        {
          "output_type": "stream",
          "name": "stdout",
          "text": [
            "Downloading...\n",
            "From: https://drive.google.com/uc?id=1ZNGQnM8l8x0IZGqqjt7hE6dOD4oIAmoI\n",
            "To: /content/test_happy.h5\n",
            "100% 1.85M/1.85M [00:00<00:00, 29.0MB/s]\n",
            "Downloading...\n",
            "From: https://drive.google.com/uc?id=1EjaiAT-L0qU_x2XkwyCXGr8N8SLXFDmU\n",
            "To: /content/train_happy.h5\n",
            "7.38MB [00:00, 45.2MB/s]\n"
          ]
        }
      ]
    },
    {
      "cell_type": "code",
      "metadata": {
        "id": "4Z7gBX7YfTRL"
      },
      "source": [
        "def load_dataset(path_to_train, path_to_test):\n",
        "    train_dataset = h5py.File(path_to_train)\n",
        "    train_x = np.array(train_dataset['train_set_x'][:])\n",
        "    train_y = np.array(train_dataset['train_set_y'][:])\n",
        "\n",
        "    test_dataset = h5py.File(path_to_test)\n",
        "    test_x = np.array(test_dataset['test_set_x'][:])\n",
        "    test_y = np.array(test_dataset['test_set_y'][:])\n",
        "\n",
        "    # y reshaped\n",
        "    train_y = train_y.reshape((1, train_x.shape[0]))\n",
        "    test_y = test_y.reshape((1, test_y.shape[0]))\n",
        "\n",
        "    return train_x, train_y, test_x, test_y"
      ],
      "execution_count": 3,
      "outputs": []
    },
    {
      "cell_type": "markdown",
      "metadata": {
        "id": "s0shUMnCg9GK"
      },
      "source": [
        "This dataset can be used to solve the Happy House problem.\n",
        "Where, we allow a person to enter the house only if he/she is smiling!\n",
        "So, a smile detector!\n"
      ]
    },
    {
      "cell_type": "markdown",
      "metadata": {
        "id": "LF7js4UdhO0F"
      },
      "source": [
        "![Texte alternatif…](https://raw.githubusercontent.com/Kulbear/deep-learning-coursera/master/Convolutional%20Neural%20Networks/images/house-members.png)"
      ]
    },
    {
      "cell_type": "markdown",
      "metadata": {
        "id": "roksQQtvizn4"
      },
      "source": [
        "\n",
        "\n",
        "Details of the \"Happy\" dataset:\n",
        "\n",
        "* Images are of shape (64,64,3)\n",
        "* Training: 600 pictures\n",
        "* Test: 150 pictures\n"
      ]
    },
    {
      "cell_type": "markdown",
      "metadata": {
        "id": "z9hCBeyJi--_"
      },
      "source": [
        "# Load Dataset"
      ]
    },
    {
      "cell_type": "code",
      "metadata": {
        "id": "nOZo0cNbg8ts",
        "colab": {
          "base_uri": "https://localhost:8080/"
        },
        "outputId": "3ce10a0e-a30e-4980-9669-b0e92004b5b0"
      },
      "source": [
        "X_train_orig, Y_train_orig, X_test_orig, Y_test_orig = load_dataset(\"train_happy.h5\",\"test_happy.h5\")\n",
        "\n",
        "# Normalize image vectors\n",
        "X_train = X_train_orig/255\n",
        "X_test = X_test_orig/255\n",
        "\n",
        "# Reshape\n",
        "Y_train = Y_train_orig\n",
        "Y_test = Y_test_orig\n",
        "\n",
        "print (\"number of training examples = \" + str(X_train.shape[0]))\n",
        "print (\"number of test examples = \" + str(X_test.shape[0]))\n",
        "print (\"X_train shape: \" + str(X_train.shape))\n",
        "print (\"Y_train shape: \" + str(Y_train.shape))\n",
        "print (\"X_test shape: \" + str(X_test.shape))\n",
        "print (\"Y_test shape: \" + str(Y_test.shape))"
      ],
      "execution_count": 4,
      "outputs": [
        {
          "output_type": "stream",
          "name": "stdout",
          "text": [
            "number of training examples = 600\n",
            "number of test examples = 150\n",
            "X_train shape: (600, 64, 64, 3)\n",
            "Y_train shape: (1, 600)\n",
            "X_test shape: (150, 64, 64, 3)\n",
            "Y_test shape: (1, 150)\n"
          ]
        }
      ]
    },
    {
      "cell_type": "code",
      "metadata": {
        "id": "RALj5hk4gMXB",
        "colab": {
          "base_uri": "https://localhost:8080/",
          "height": 304
        },
        "outputId": "6ced8cdd-aeff-4cfb-c88b-c950f75b1acb"
      },
      "source": [
        "# Sample image from dataset\n",
        "print(\"Image shape :\",X_train_orig[10].shape)\n",
        "imshow(X_train_orig[10])"
      ],
      "execution_count": 5,
      "outputs": [
        {
          "output_type": "stream",
          "name": "stdout",
          "text": [
            "Image shape : (64, 64, 3)\n"
          ]
        },
        {
          "output_type": "execute_result",
          "data": {
            "text/plain": [
              "<matplotlib.image.AxesImage at 0x7fa0557022d0>"
            ]
          },
          "metadata": {},
          "execution_count": 5
        },
        {
          "output_type": "display_data",
          "data": {
            "image/png": "[encoded data removed]",
            "text/plain": [
              "<Figure size 432x288 with 1 Axes>"
            ]
          },
          "metadata": {
            "needs_background": "light"
          }
        }
      ]
    },
    {
      "cell_type": "markdown",
      "metadata": {
        "id": "vQNZh4XxjCiB"
      },
      "source": [
        "# Building Model"
      ]
    },
    {
      "cell_type": "markdown",
      "metadata": {
        "id": "IJJpc1lppa_m"
      },
      "source": [
        "_________________________________________________________________\n",
        "\n",
        "conv2d_3 (Conv2D)            (None, 64, 64, 32)        4736      \n",
        "_________________________________________________________________\n",
        "batch_normalization_2 (Batch (None, 64, 64, 32)        128       \n",
        "_________________________________________________________________\n",
        "max_pooling2d_2 (MaxPooling2 (None, 32, 32, 32)        0         \n",
        "_________________________________________________________________\n",
        "flatten_2 (Flatten)          (None, 32768)             0         \n",
        "_________________________________________________________________\n",
        "dense_2 (Dense)              (None, 1)                 32769     \n",
        "_________________________________________________________________\n",
        "\n"
      ]
    },
    {
      "cell_type": "code",
      "metadata": {
        "id": "j1YT0k2rkvAM"
      },
      "source": [
        "from tensorflow.keras.layers import Conv2D, Flatten\n",
        "model = Sequential(\n",
        "    [Conv2D(\n",
        "    filters = 10,\n",
        "    kernel_size = 3,\n",
        "    strides=(1, 1),\n",
        "    ),\n",
        "     Flatten(),\n",
        "    Dense(16, activation='relu'),    \n",
        "    Dense(1, activation='sigmoid')])"
      ],
      "execution_count": 28,
      "outputs": []
    },
    {
      "cell_type": "code",
      "metadata": {
        "id": "3CtQ3d7pmdEU"
      },
      "source": [
        "model.compile(optimizer='adam', loss='binary_crossentropy', metrics=[\"accuracy\"])"
      ],
      "execution_count": 29,
      "outputs": []
    },
    {
      "cell_type": "code",
      "metadata": {
        "id": "-JbhW4TY55lP"
      },
      "source": [
        "Y_train = Y_train.reshape(-1, 1)"
      ],
      "execution_count": 30,
      "outputs": []
    },
    {
      "cell_type": "code",
      "metadata": {
        "id": "JJzOsVQnmsz0",
        "colab": {
          "base_uri": "https://localhost:8080/"
        },
        "outputId": "17425d52-d8b0-4467-f563-3bb41b9a4cf0"
      },
      "source": [
        "history_model = model.fit(X_train, Y_train,\n",
        "                          batch_size= 128,\n",
        "                    epochs= 30,\n",
        "                    verbose= 1)"
      ],
      "execution_count": 31,
      "outputs": [
        {
          "output_type": "stream",
          "name": "stdout",
          "text": [
            "Epoch 1/30\n",
            "5/5 [==============================] - 2s 121ms/step - loss: 4.2458 - accuracy: 0.4983\n",
            "Epoch 2/30\n",
            "5/5 [==============================] - 1s 117ms/step - loss: 1.1558 - accuracy: 0.5367\n",
            "Epoch 3/30\n",
            "5/5 [==============================] - 1s 119ms/step - loss: 0.4841 - accuracy: 0.7700\n",
            "Epoch 4/30\n",
            "5/5 [==============================] - 1s 119ms/step - loss: 0.3131 - accuracy: 0.8917\n",
            "Epoch 5/30\n",
            "5/5 [==============================] - 1s 117ms/step - loss: 0.2435 - accuracy: 0.9183\n",
            "Epoch 6/30\n",
            "5/5 [==============================] - 1s 119ms/step - loss: 0.2233 - accuracy: 0.9283\n",
            "Epoch 7/30\n",
            "5/5 [==============================] - 1s 118ms/step - loss: 0.1711 - accuracy: 0.9517\n",
            "Epoch 8/30\n",
            "5/5 [==============================] - 1s 117ms/step - loss: 0.1650 - accuracy: 0.9517\n",
            "Epoch 9/30\n",
            "5/5 [==============================] - 1s 119ms/step - loss: 0.1304 - accuracy: 0.9650\n",
            "Epoch 10/30\n",
            "5/5 [==============================] - 1s 116ms/step - loss: 0.1232 - accuracy: 0.9700\n",
            "Epoch 11/30\n",
            "5/5 [==============================] - 1s 119ms/step - loss: 0.1117 - accuracy: 0.9700\n",
            "Epoch 12/30\n",
            "5/5 [==============================] - 1s 118ms/step - loss: 0.0968 - accuracy: 0.9800\n",
            "Epoch 13/30\n",
            "5/5 [==============================] - 1s 117ms/step - loss: 0.0931 - accuracy: 0.9817\n",
            "Epoch 14/30\n",
            "5/5 [==============================] - 1s 122ms/step - loss: 0.0860 - accuracy: 0.9800\n",
            "Epoch 15/30\n",
            "5/5 [==============================] - 1s 119ms/step - loss: 0.0818 - accuracy: 0.9800\n",
            "Epoch 16/30\n",
            "5/5 [==============================] - 1s 125ms/step - loss: 0.0802 - accuracy: 0.9867\n",
            "Epoch 17/30\n",
            "5/5 [==============================] - 1s 120ms/step - loss: 0.0761 - accuracy: 0.9833\n",
            "Epoch 18/30\n",
            "5/5 [==============================] - 1s 117ms/step - loss: 0.0783 - accuracy: 0.9817\n",
            "Epoch 19/30\n",
            "5/5 [==============================] - 1s 121ms/step - loss: 0.0781 - accuracy: 0.9883\n",
            "Epoch 20/30\n",
            "5/5 [==============================] - 1s 119ms/step - loss: 0.0928 - accuracy: 0.9667\n",
            "Epoch 21/30\n",
            "5/5 [==============================] - 1s 124ms/step - loss: 0.0679 - accuracy: 0.9850\n",
            "Epoch 22/30\n",
            "5/5 [==============================] - 1s 121ms/step - loss: 0.0635 - accuracy: 0.9867\n",
            "Epoch 23/30\n",
            "5/5 [==============================] - 1s 120ms/step - loss: 0.0604 - accuracy: 0.9817\n",
            "Epoch 24/30\n",
            "5/5 [==============================] - 1s 120ms/step - loss: 0.0590 - accuracy: 0.9867\n",
            "Epoch 25/30\n",
            "5/5 [==============================] - 1s 117ms/step - loss: 0.0573 - accuracy: 0.9900\n",
            "Epoch 26/30\n",
            "5/5 [==============================] - 1s 119ms/step - loss: 0.0620 - accuracy: 0.9850\n",
            "Epoch 27/30\n",
            "5/5 [==============================] - 1s 120ms/step - loss: 0.0519 - accuracy: 0.9900\n",
            "Epoch 28/30\n",
            "5/5 [==============================] - 1s 117ms/step - loss: 0.0489 - accuracy: 0.9900\n",
            "Epoch 29/30\n",
            "5/5 [==============================] - 1s 120ms/step - loss: 0.0493 - accuracy: 0.9917\n",
            "Epoch 30/30\n",
            "5/5 [==============================] - 1s 119ms/step - loss: 0.0471 - accuracy: 0.9883\n"
          ]
        }
      ]
    },
    {
      "cell_type": "markdown",
      "metadata": {
        "id": "MZFI90ydpx0n"
      },
      "source": [
        "# Evaluate / Test"
      ]
    },
    {
      "cell_type": "code",
      "metadata": {
        "id": "xV8Jav30myg0",
        "colab": {
          "base_uri": "https://localhost:8080/",
          "height": 299
        },
        "outputId": "a0046419-8243-4e7f-e7fe-178cc94d1933"
      },
      "source": [
        "train_accuracy = history_model.history[\"accuracy\"]\n",
        "train_loss = history_model.history[\"loss\"]\n",
        "\n",
        "count = range(len(train_accuracy))\n",
        "plt.plot(count, train_accuracy, label='Training accuracy')\n",
        "plt.plot(count, train_loss, label='Training Loss')\n",
        "plt.title('epochs vs Training Loss')\n",
        "plt.legend()"
      ],
      "execution_count": 32,
      "outputs": [
        {
          "output_type": "execute_result",
          "data": {
            "text/plain": [
              "<matplotlib.legend.Legend at 0x7fa0520ec810>"
            ]
          },
          "metadata": {},
          "execution_count": 32
        },
        {
          "output_type": "display_data",
          "data": {
            "image/png": "[encoded data removed]",
            "text/plain": [
              "<Figure size 432x288 with 1 Axes>"
            ]
          },
          "metadata": {
            "needs_background": "light"
          }
        }
      ]
    },
    {
      "cell_type": "markdown",
      "metadata": {
        "id": "gBOEETB6qD3L"
      },
      "source": [
        "Evaluate Test set"
      ]
    },
    {
      "cell_type": "code",
      "metadata": {
        "colab": {
          "base_uri": "https://localhost:8080/"
        },
        "id": "_531z5NhOleV",
        "outputId": "cd29c846-1877-414e-febd-44cd99fd2e59"
      },
      "source": [
        "Y_test.shape"
      ],
      "execution_count": 41,
      "outputs": [
        {
          "output_type": "execute_result",
          "data": {
            "text/plain": [
              "(1, 150)"
            ]
          },
          "metadata": {},
          "execution_count": 41
        }
      ]
    },
    {
      "cell_type": "code",
      "metadata": {
        "id": "VNuzxr58m6bI",
        "colab": {
          "base_uri": "https://localhost:8080/"
        },
        "outputId": "9ed0a28a-a32d-44a8-b641-286aaf954055"
      },
      "source": [
        "test_loss, test_accuracy = model.evaluate(X_test, Y_test.T)\n",
        "print(test_loss, test_accuracy)"
      ],
      "execution_count": 42,
      "outputs": [
        {
          "output_type": "stream",
          "name": "stdout",
          "text": [
            "5/5 [==============================] - 0s 15ms/step - loss: 0.1298 - accuracy: 0.9600\n",
            "0.12982121109962463 0.9599999785423279\n"
          ]
        }
      ]
    },
    {
      "cell_type": "markdown",
      "metadata": {
        "id": "hFC1nz5_p33b"
      },
      "source": [
        "Confusion Matrix"
      ]
    },
    {
      "cell_type": "code",
      "metadata": {
        "id": "iflIgFgnnIfv"
      },
      "source": [
        "test_logits = model.predict(X_test)"
      ],
      "execution_count": 49,
      "outputs": []
    },
    {
      "cell_type": "code",
      "metadata": {
        "colab": {
          "base_uri": "https://localhost:8080/"
        },
        "id": "1VUQG3nuQbbY",
        "outputId": "9f0102aa-49a7-4252-8b38-5bcd2aca102c"
      },
      "source": [
        "test_logits"
      ],
      "execution_count": 50,
      "outputs": [
        {
          "output_type": "execute_result",
          "data": {
            "text/plain": [
              "array([[0.9998982 ],\n",
              "       [0.9868026 ],\n",
              "       [0.99952656],\n",
              "       [0.9998809 ],\n",
              "       [0.66202044],\n",
              "       [0.9760564 ],\n",
              "       [0.98334455],\n",
              "       [0.01047668],\n",
              "       [0.99286187],\n",
              "       [0.03642535],\n",
              "       [0.9905094 ],\n",
              "       [0.09042296],\n",
              "       [0.97608006],\n",
              "       [0.6072461 ],\n",
              "       [0.09546956],\n",
              "       [0.9841993 ],\n",
              "       [0.00702235],\n",
              "       [0.99672186],\n",
              "       [0.00591689],\n",
              "       [0.9999138 ],\n",
              "       [0.91996163],\n",
              "       [0.98030365],\n",
              "       [0.55461204],\n",
              "       [0.9998847 ],\n",
              "       [0.00491649],\n",
              "       [0.00352767],\n",
              "       [0.9560593 ],\n",
              "       [0.01918969],\n",
              "       [0.35629532],\n",
              "       [0.9950402 ],\n",
              "       [0.9749774 ],\n",
              "       [0.999143  ],\n",
              "       [0.98001707],\n",
              "       [0.9997291 ],\n",
              "       [0.9912174 ],\n",
              "       [0.99972355],\n",
              "       [0.1476424 ],\n",
              "       [0.04599729],\n",
              "       [0.04802144],\n",
              "       [0.00566873],\n",
              "       [0.7735558 ],\n",
              "       [0.014541  ],\n",
              "       [0.08498508],\n",
              "       [0.00922552],\n",
              "       [0.9999838 ],\n",
              "       [0.00552687],\n",
              "       [0.00407559],\n",
              "       [0.00549975],\n",
              "       [0.99606735],\n",
              "       [0.0083251 ],\n",
              "       [0.00303623],\n",
              "       [0.0778906 ],\n",
              "       [0.90015507],\n",
              "       [0.87203634],\n",
              "       [0.0415208 ],\n",
              "       [0.9593891 ],\n",
              "       [0.98929936],\n",
              "       [0.8923317 ],\n",
              "       [0.99632955],\n",
              "       [0.99995446],\n",
              "       [0.63283587],\n",
              "       [0.99916625],\n",
              "       [0.56819636],\n",
              "       [0.8375609 ],\n",
              "       [0.99874127],\n",
              "       [0.6337508 ],\n",
              "       [0.9266038 ],\n",
              "       [0.954525  ],\n",
              "       [0.9857518 ],\n",
              "       [0.99976015],\n",
              "       [0.99778455],\n",
              "       [0.05399331],\n",
              "       [0.01488599],\n",
              "       [0.30719098],\n",
              "       [0.10074729],\n",
              "       [0.87768555],\n",
              "       [0.9641203 ],\n",
              "       [0.0066593 ],\n",
              "       [0.1356759 ],\n",
              "       [0.99778473],\n",
              "       [0.03941309],\n",
              "       [0.9992634 ],\n",
              "       [0.08640173],\n",
              "       [0.9999418 ],\n",
              "       [0.26031977],\n",
              "       [0.9864533 ],\n",
              "       [0.9865885 ],\n",
              "       [0.00619984],\n",
              "       [0.02072015],\n",
              "       [0.9999603 ],\n",
              "       [0.0221765 ],\n",
              "       [0.06440488],\n",
              "       [0.10483932],\n",
              "       [0.02237016],\n",
              "       [0.9875336 ],\n",
              "       [0.5031466 ],\n",
              "       [0.99663067],\n",
              "       [0.06460926],\n",
              "       [0.99988186],\n",
              "       [0.969898  ],\n",
              "       [0.9999174 ],\n",
              "       [0.08309153],\n",
              "       [0.9998486 ],\n",
              "       [0.18495432],\n",
              "       [0.06476614],\n",
              "       [0.01495406],\n",
              "       [0.0161106 ],\n",
              "       [0.9864174 ],\n",
              "       [0.01276386],\n",
              "       [0.01042932],\n",
              "       [0.99985445],\n",
              "       [0.9998128 ],\n",
              "       [0.02644414],\n",
              "       [0.3750084 ],\n",
              "       [0.9994192 ],\n",
              "       [0.9949586 ],\n",
              "       [0.42139766],\n",
              "       [0.09963372],\n",
              "       [0.99968916],\n",
              "       [0.05142984],\n",
              "       [0.9726194 ],\n",
              "       [0.99938047],\n",
              "       [0.06167454],\n",
              "       [0.9998841 ],\n",
              "       [0.87149304],\n",
              "       [0.9351518 ],\n",
              "       [0.00529981],\n",
              "       [0.9898319 ],\n",
              "       [0.7101429 ],\n",
              "       [0.00625056],\n",
              "       [0.99881834],\n",
              "       [0.99992675],\n",
              "       [0.00558537],\n",
              "       [0.9976413 ],\n",
              "       [0.9722621 ],\n",
              "       [0.99993515],\n",
              "       [0.741642  ],\n",
              "       [0.97247934],\n",
              "       [0.22159061],\n",
              "       [0.99976516],\n",
              "       [0.97995424],\n",
              "       [0.98303926],\n",
              "       [0.08017123],\n",
              "       [0.9005961 ],\n",
              "       [0.10746551],\n",
              "       [0.44485894],\n",
              "       [0.00693542],\n",
              "       [0.9924345 ],\n",
              "       [0.9992869 ],\n",
              "       [0.34290648]], dtype=float32)"
            ]
          },
          "metadata": {},
          "execution_count": 50
        }
      ]
    },
    {
      "cell_type": "code",
      "metadata": {
        "id": "gFnF4De2QgZW"
      },
      "source": [
        "test_predictions = np.argmax(X_test)"
      ],
      "execution_count": 51,
      "outputs": []
    },
    {
      "cell_type": "code",
      "metadata": {
        "colab": {
          "base_uri": "https://localhost:8080/"
        },
        "id": "v6jiE0VuQqIK",
        "outputId": "e51a6179-6909-4050-bac4-746f09e0dd3e"
      },
      "source": [
        "test_predictions"
      ],
      "execution_count": 52,
      "outputs": [
        {
          "output_type": "execute_result",
          "data": {
            "text/plain": [
              "84"
            ]
          },
          "metadata": {},
          "execution_count": 52
        }
      ]
    },
    {
      "cell_type": "code",
      "metadata": {
        "colab": {
          "base_uri": "https://localhost:8080/"
        },
        "id": "AnQCU9cOQtI1",
        "outputId": "41ee3f00-ebc4-4f56-9ffc-1b51646441c3"
      },
      "source": [
        "from sklearn.metrics import confusion_matrix\n",
        "y_true = Y_test\n",
        "y_pred = test_logits\n",
        "print(y_true.shape)\n",
        "print(y_pred.shape)\n",
        "confusion_matrix(y_true.T, np.round(y_pred))"
      ],
      "execution_count": 60,
      "outputs": [
        {
          "output_type": "stream",
          "name": "stdout",
          "text": [
            "(1, 150)\n",
            "(150, 1)\n"
          ]
        },
        {
          "output_type": "execute_result",
          "data": {
            "text/plain": [
              "array([[61,  5],\n",
              "       [ 1, 83]])"
            ]
          },
          "metadata": {},
          "execution_count": 60
        }
      ]
    },
    {
      "cell_type": "markdown",
      "metadata": {
        "id": "QQKL1aDLqjqU"
      },
      "source": [
        "# Note\n",
        "\n",
        "Before you submit your work \n",
        "\n",
        "* You should compare different optimizers\n",
        "\n",
        "---\n",
        "\n",
        "* Display images with Predicted & expected labels (Happy-sad)\n"
      ]
    },
    {
      "cell_type": "code",
      "metadata": {
        "id": "EW_BaM-9p69t"
      },
      "source": [
        ""
      ],
      "execution_count": null,
      "outputs": []
    }
  ]
}