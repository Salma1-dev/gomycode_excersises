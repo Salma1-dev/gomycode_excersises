{
 "cells": [
  {
   "cell_type": "code",
   "execution_count": 32,
   "metadata": {},
   "outputs": [],
   "source": [
    "from sklearn.model_selection import train_test_split\n",
    "from sklearn import tree   \n",
    "from sklearn.tree import DecisionTreeClassifier\n",
    "from sklearn.metrics import accuracy_score\n",
    "from matplotlib import pyplot as plt\n",
    "from sklearn import datasets"
   ]
  },
  {
   "cell_type": "code",
   "execution_count": 5,
   "metadata": {},
   "outputs": [
    {
     "name": "stdout",
     "output_type": "stream",
     "text": [
      "     PassengerId Survived  Pclass  \\\n",
      "0            343       No       2   \n",
      "1             76       No       3   \n",
      "2            641       No       3   \n",
      "3            568       No       3   \n",
      "4            672       No       1   \n",
      "..           ...      ...     ...   \n",
      "886           10      Yes       2   \n",
      "887           61       No       3   \n",
      "888          535       No       3   \n",
      "889          102       No       3   \n",
      "890          428      Yes       2   \n",
      "\n",
      "                                                  Name     Sex   Age  SibSp  \\\n",
      "0                           Collander, Mr. Erik Gustaf    male  28.0      0   \n",
      "1                              Moen, Mr. Sigurd Hansen    male  25.0      0   \n",
      "2                               Jensen, Mr. Hans Peder    male  20.0      0   \n",
      "3          Palsson, Mrs. Nils (Alma Cornelia Berglund)  female  29.0      0   \n",
      "4                               Davidson, Mr. Thornton    male  31.0      1   \n",
      "..                                                 ...     ...   ...    ...   \n",
      "886                Nasser, Mrs. Nicholas (Adele Achem)  female  14.0      1   \n",
      "887                              Sirayanian, Mr. Orsen    male  22.0      0   \n",
      "888                                Cacic, Miss. Marija  female  30.0      0   \n",
      "889                   Petroff, Mr. Pastcho (\"Pentcho\")    male   NaN      0   \n",
      "890  Phillips, Miss. Kate Florence (\"Mrs Kate Louis...  female  19.0      0   \n",
      "\n",
      "     Parch      Ticket     Fare  Cabin Embarked  \n",
      "0        0      248740  13.0000    NaN        S  \n",
      "1        0      348123   7.6500  F G73        S  \n",
      "2        0      350050   7.8542    NaN        S  \n",
      "3        4      349909  21.0750    NaN        S  \n",
      "4        0  F.C. 12750  52.0000    B71        S  \n",
      "..     ...         ...      ...    ...      ...  \n",
      "886      0      237736  30.0708    NaN        C  \n",
      "887      0        2669   7.2292    NaN        C  \n",
      "888      0      315084   8.6625    NaN        S  \n",
      "889      0      349215   7.8958    NaN        S  \n",
      "890      0      250655  26.0000    NaN        S  \n",
      "\n",
      "[891 rows x 12 columns]\n"
     ]
    }
   ],
   "source": [
    "import pandas as pd\n",
    "\n",
    "titanic_df = pd.read_csv (r'C:\\Users\\pc\\Downloads\\titanic-passengers.csv', sep = ';')\n",
    "print (titanic_df)"
   ]
  },
  {
   "cell_type": "code",
   "execution_count": 6,
   "metadata": {},
   "outputs": [
    {
     "name": "stdout",
     "output_type": "stream",
     "text": [
      "PassengerId - 0\n",
      "Survived - 0\n",
      "Pclass - 0\n",
      "Name - 0\n",
      "Sex - 0\n",
      "Age - 177\n",
      "SibSp - 0\n",
      "Parch - 0\n",
      "Ticket - 0\n",
      "Fare - 0\n",
      "Cabin - 687\n",
      "Embarked - 2\n"
     ]
    }
   ],
   "source": [
    "column_names = titanic_df.columns\n",
    "for column in column_names:\n",
    "    print(column + ' - ' + str(titanic_df[column].isnull().sum()))"
   ]
  },
  {
   "cell_type": "code",
   "execution_count": 7,
   "metadata": {},
   "outputs": [
    {
     "name": "stdout",
     "output_type": "stream",
     "text": [
      "C23 C25 C27    691\n",
      "G6               4\n",
      "B96 B98          4\n",
      "F2               3\n",
      "F33              3\n",
      "              ... \n",
      "E77              1\n",
      "D11              1\n",
      "C46              1\n",
      "B4               1\n",
      "B102             1\n",
      "Name: Cabin, Length: 147, dtype: int64\n"
     ]
    }
   ],
   "source": [
    "titanic_df[\"Cabin\"] = titanic_df[\"Cabin\"].fillna(\"C23 C25 C27\")\n",
    "\n",
    "print(titanic_df[\"Cabin\"].value_counts())"
   ]
  },
  {
   "cell_type": "code",
   "execution_count": 8,
   "metadata": {},
   "outputs": [
    {
     "name": "stdout",
     "output_type": "stream",
     "text": [
      "29.699118    177\n",
      "24.000000     30\n",
      "22.000000     27\n",
      "18.000000     26\n",
      "28.000000     25\n",
      "            ... \n",
      "66.000000      1\n",
      "24.500000      1\n",
      "80.000000      1\n",
      "14.500000      1\n",
      "0.420000       1\n",
      "Name: Age, Length: 89, dtype: int64\n"
     ]
    }
   ],
   "source": [
    "titanic_df[\"Age\"] = titanic_df[\"Age\"].fillna(titanic_df[\"Age\"].mean())\n",
    "\n",
    "print(titanic_df[\"Age\"].value_counts())"
   ]
  },
  {
   "cell_type": "code",
   "execution_count": 9,
   "metadata": {},
   "outputs": [
    {
     "name": "stdout",
     "output_type": "stream",
     "text": [
      "S    644\n",
      "C    168\n",
      "Q     77\n",
      "Name: Embarked, dtype: int64\n"
     ]
    }
   ],
   "source": [
    "titanic_df[\"Embarked\"] = titanic_df[\"Embarked\"].fillna(titanic_df[\"Embarked\"].mode())\n",
    "\n",
    "print(titanic_df[\"Embarked\"].value_counts())"
   ]
  },
  {
   "cell_type": "code",
   "execution_count": 10,
   "metadata": {},
   "outputs": [
    {
     "data": {
      "text/html": [
       "<div>\n",
       "<style scoped>\n",
       "    .dataframe tbody tr th:only-of-type {\n",
       "        vertical-align: middle;\n",
       "    }\n",
       "\n",
       "    .dataframe tbody tr th {\n",
       "        vertical-align: top;\n",
       "    }\n",
       "\n",
       "    .dataframe thead th {\n",
       "        text-align: right;\n",
       "    }\n",
       "</style>\n",
       "<table border=\"1\" class=\"dataframe\">\n",
       "  <thead>\n",
       "    <tr style=\"text-align: right;\">\n",
       "      <th></th>\n",
       "      <th>PassengerId</th>\n",
       "      <th>Survived</th>\n",
       "      <th>Pclass</th>\n",
       "      <th>Name</th>\n",
       "      <th>Sex</th>\n",
       "      <th>Age</th>\n",
       "      <th>SibSp</th>\n",
       "      <th>Parch</th>\n",
       "      <th>Ticket</th>\n",
       "      <th>Fare</th>\n",
       "      <th>Cabin</th>\n",
       "      <th>Embarked</th>\n",
       "    </tr>\n",
       "  </thead>\n",
       "  <tbody>\n",
       "    <tr>\n",
       "      <th>0</th>\n",
       "      <td>343</td>\n",
       "      <td>0</td>\n",
       "      <td>2</td>\n",
       "      <td>Collander, Mr. Erik Gustaf</td>\n",
       "      <td>1</td>\n",
       "      <td>28.0</td>\n",
       "      <td>0</td>\n",
       "      <td>0</td>\n",
       "      <td>248740</td>\n",
       "      <td>13.0000</td>\n",
       "      <td>C23 C25 C27</td>\n",
       "      <td>S</td>\n",
       "    </tr>\n",
       "    <tr>\n",
       "      <th>1</th>\n",
       "      <td>76</td>\n",
       "      <td>0</td>\n",
       "      <td>3</td>\n",
       "      <td>Moen, Mr. Sigurd Hansen</td>\n",
       "      <td>1</td>\n",
       "      <td>25.0</td>\n",
       "      <td>0</td>\n",
       "      <td>0</td>\n",
       "      <td>348123</td>\n",
       "      <td>7.6500</td>\n",
       "      <td>F G73</td>\n",
       "      <td>S</td>\n",
       "    </tr>\n",
       "    <tr>\n",
       "      <th>2</th>\n",
       "      <td>641</td>\n",
       "      <td>0</td>\n",
       "      <td>3</td>\n",
       "      <td>Jensen, Mr. Hans Peder</td>\n",
       "      <td>1</td>\n",
       "      <td>20.0</td>\n",
       "      <td>0</td>\n",
       "      <td>0</td>\n",
       "      <td>350050</td>\n",
       "      <td>7.8542</td>\n",
       "      <td>C23 C25 C27</td>\n",
       "      <td>S</td>\n",
       "    </tr>\n",
       "    <tr>\n",
       "      <th>3</th>\n",
       "      <td>568</td>\n",
       "      <td>0</td>\n",
       "      <td>3</td>\n",
       "      <td>Palsson, Mrs. Nils (Alma Cornelia Berglund)</td>\n",
       "      <td>0</td>\n",
       "      <td>29.0</td>\n",
       "      <td>0</td>\n",
       "      <td>4</td>\n",
       "      <td>349909</td>\n",
       "      <td>21.0750</td>\n",
       "      <td>C23 C25 C27</td>\n",
       "      <td>S</td>\n",
       "    </tr>\n",
       "    <tr>\n",
       "      <th>4</th>\n",
       "      <td>672</td>\n",
       "      <td>0</td>\n",
       "      <td>1</td>\n",
       "      <td>Davidson, Mr. Thornton</td>\n",
       "      <td>1</td>\n",
       "      <td>31.0</td>\n",
       "      <td>1</td>\n",
       "      <td>0</td>\n",
       "      <td>F.C. 12750</td>\n",
       "      <td>52.0000</td>\n",
       "      <td>B71</td>\n",
       "      <td>S</td>\n",
       "    </tr>\n",
       "  </tbody>\n",
       "</table>\n",
       "</div>"
      ],
      "text/plain": [
       "   PassengerId  Survived  Pclass                                         Name  \\\n",
       "0          343         0       2                   Collander, Mr. Erik Gustaf   \n",
       "1           76         0       3                      Moen, Mr. Sigurd Hansen   \n",
       "2          641         0       3                       Jensen, Mr. Hans Peder   \n",
       "3          568         0       3  Palsson, Mrs. Nils (Alma Cornelia Berglund)   \n",
       "4          672         0       1                       Davidson, Mr. Thornton   \n",
       "\n",
       "   Sex   Age  SibSp  Parch      Ticket     Fare        Cabin Embarked  \n",
       "0    1  28.0      0      0      248740  13.0000  C23 C25 C27        S  \n",
       "1    1  25.0      0      0      348123   7.6500        F G73        S  \n",
       "2    1  20.0      0      0      350050   7.8542  C23 C25 C27        S  \n",
       "3    0  29.0      0      4      349909  21.0750  C23 C25 C27        S  \n",
       "4    1  31.0      1      0  F.C. 12750  52.0000          B71        S  "
      ]
     },
     "execution_count": 10,
     "metadata": {},
     "output_type": "execute_result"
    }
   ],
   "source": [
    "replacement_dict = {\"Survived\": {\"Yes\":1 ,\"No\":0}, \"Sex\": {\"male\":1, \"female\":0}}\n",
    "titanic_df.replace(replacement_dict, inplace = True)\n",
    "titanic_df.head()"
   ]
  },
  {
   "cell_type": "code",
   "execution_count": 12,
   "metadata": {},
   "outputs": [
    {
     "name": "stdout",
     "output_type": "stream",
     "text": [
      "score:0.776536312849162\n"
     ]
    }
   ],
   "source": [
    "x = titanic_df.drop([\"Survived\", \"Name\", \"Cabin\", \"Ticket\", \"Embarked\"], axis=1)\n",
    "y = titanic_df[\"Survived\"]\n",
    "\n",
    "\n",
    "x_train, x_test, y_train, y_test = train_test_split(x,y, test_size=0.20,random_state=10)\n",
    "\n",
    "\n",
    "tree = tree.DecisionTreeClassifier()  \n",
    "tree.fit(x_train, y_train)   \n",
    "y_pred = tree.predict(x_test)   \n",
    "print(\"score:{}\".format(accuracy_score(y_test, y_pred)))"
   ]
  },
  {
   "cell_type": "code",
   "execution_count": 18,
   "metadata": {},
   "outputs": [],
   "source": [
    "clf = DecisionTreeClassifier(random_state=1234)\n",
    "model = clf.fit(x, y)"
   ]
  },
  {
   "cell_type": "code",
   "execution_count": 47,
   "metadata": {},
   "outputs": [
    {
     "name": "stdout",
     "output_type": "stream",
     "text": [
      "0.770949720670391\n"
     ]
    }
   ],
   "source": [
    "clf = DecisionTreeClassifier(random_state=1234)\n",
    "model = clf.fit(x_train, y_train)\n",
    "acc = clf.score(x_test, y_test)\n",
    "print(acc)"
   ]
  },
  {
   "cell_type": "code",
   "execution_count": 15,
   "metadata": {},
   "outputs": [],
   "source": [
    "from sklearn.tree import DecisionTreeClassifier\n",
    "\n",
    "clf_gini = DecisionTreeClassifier(criterion='gini', max_depth=3, random_state=0)"
   ]
  },
  {
   "cell_type": "code",
   "execution_count": 16,
   "metadata": {},
   "outputs": [
    {
     "data": {
      "text/plain": [
       "DecisionTreeClassifier(max_depth=3, random_state=0)"
      ]
     },
     "execution_count": 16,
     "metadata": {},
     "output_type": "execute_result"
    }
   ],
   "source": [
    "clf_gini.fit(x_train, y_train)"
   ]
  },
  {
   "cell_type": "code",
   "execution_count": 23,
   "metadata": {},
   "outputs": [
    {
     "data": {
      "text/plain": [
       "[Text(334.8, 380.52, 'X[2] <= 0.5\\ngini = 0.469\\nsamples = 712\\nvalue = [444, 268]'),\n",
       " Text(167.4, 271.8, 'X[1] <= 2.5\\ngini = 0.39\\nsamples = 252\\nvalue = [67, 185]'),\n",
       " Text(83.7, 163.07999999999998, 'X[3] <= 2.5\\ngini = 0.1\\nsamples = 133\\nvalue = [7, 126]'),\n",
       " Text(41.85, 54.360000000000014, 'gini = 0.0\\nsamples = 1\\nvalue = [1, 0]'),\n",
       " Text(125.55000000000001, 54.360000000000014, 'gini = 0.087\\nsamples = 132\\nvalue = [6, 126]'),\n",
       " Text(251.10000000000002, 163.07999999999998, 'X[6] <= 23.35\\ngini = 0.5\\nsamples = 119\\nvalue = [60, 59]'),\n",
       " Text(209.25, 54.360000000000014, 'gini = 0.484\\nsamples = 95\\nvalue = [39, 56]'),\n",
       " Text(292.95, 54.360000000000014, 'gini = 0.219\\nsamples = 24\\nvalue = [21, 3]'),\n",
       " Text(502.20000000000005, 271.8, 'X[1] <= 1.5\\ngini = 0.296\\nsamples = 460\\nvalue = [377, 83]'),\n",
       " Text(418.5, 163.07999999999998, 'X[0] <= 187.0\\ngini = 0.461\\nsamples = 100\\nvalue = [64, 36]'),\n",
       " Text(376.65000000000003, 54.360000000000014, 'gini = 0.236\\nsamples = 22\\nvalue = [19, 3]'),\n",
       " Text(460.35, 54.360000000000014, 'gini = 0.488\\nsamples = 78\\nvalue = [45, 33]'),\n",
       " Text(585.9, 163.07999999999998, 'X[3] <= 3.5\\ngini = 0.227\\nsamples = 360\\nvalue = [313, 47]'),\n",
       " Text(544.0500000000001, 54.360000000000014, 'gini = 0.444\\nsamples = 12\\nvalue = [4, 8]'),\n",
       " Text(627.75, 54.360000000000014, 'gini = 0.199\\nsamples = 348\\nvalue = [309, 39]')]"
      ]
     },
     "execution_count": 23,
     "metadata": {},
     "output_type": "execute_result"
    },
    {
     "data": {
      "image/png": "[encoded data removed]",
      "text/plain": [
       "<Figure size 864x576 with 1 Axes>"
      ]
     },
     "metadata": {
      "needs_background": "light"
     },
     "output_type": "display_data"
    }
   ],
   "source": [
    "plt.figure(figsize=(12,8))\n",
    "\n",
    "from sklearn import tree\n",
    "\n",
    "tree.plot_tree(clf_gini.fit(x_train, y_train))"
   ]
  },
  {
   "cell_type": "code",
   "execution_count": 29,
   "metadata": {},
   "outputs": [],
   "source": [
    "clf = DecisionTreeClassifier(random_state=1234,criterion=\"entropy\", splitter=\"random\")\n",
    "model = clf.fit(x, y)"
   ]
  },
  {
   "cell_type": "code",
   "execution_count": 45,
   "metadata": {
    "scrolled": true
   },
   "outputs": [
    {
     "name": "stdout",
     "output_type": "stream",
     "text": [
      "0.7821229050279329\n"
     ]
    }
   ],
   "source": [
    "clf = DecisionTreeClassifier(random_state=1234,criterion=\"entropy\", splitter=\"random\")\n",
    "model = clf.fit(x_train, y_train)\n",
    "acc = clf.score(x_test, y_test)\n",
    "print(acc)"
   ]
  },
  {
   "cell_type": "markdown",
   "metadata": {},
   "source": [
    "The Comparison between scores\n",
    "\n",
    "The first decision tree it gave us a 77% score and the second decision tree gave us a 78% score"
   ]
  },
  {
   "cell_type": "code",
   "execution_count": 41,
   "metadata": {},
   "outputs": [],
   "source": [
    "from sklearn.ensemble import RandomForestRegressor\n",
    "\n",
    "regressor = RandomForestRegressor(n_estimators=20, random_state=0)\n",
    "regressor.fit(x_train, y_train)\n",
    "y_pred = regressor.predict(x_test)"
   ]
  },
  {
   "cell_type": "code",
   "execution_count": 51,
   "metadata": {},
   "outputs": [
    {
     "name": "stdout",
     "output_type": "stream",
     "text": [
      "[0.   0.8  0.45 0.35 0.3  0.1  0.   0.05 0.3  0.3  0.65 0.45 0.1  1.\n",
      " 0.35 0.9  0.2  0.   1.   0.25 0.25 0.   0.9  0.55 1.   0.8  0.45 1.\n",
      " 0.5  0.05 0.25 0.9  0.   0.1  0.2  0.   0.4  0.3  0.9  0.25 0.35 0.85\n",
      " 0.65 0.05 0.   0.   0.4  0.05 0.15 1.   0.1  0.05 1.   0.3  0.05 0.15\n",
      " 0.7  1.   0.95 0.45 0.7  0.3  0.   0.2  0.15 0.2  1.   0.   0.05 0.2\n",
      " 1.   0.25 0.95 0.75 1.   0.25 0.1  0.35 0.1  0.6  0.6  0.95 0.7  0.\n",
      " 0.2  0.85 0.2  0.6  0.5  0.25 0.   0.55 0.15 1.   1.   0.55 1.   0.\n",
      " 0.85 0.45 0.65 0.15 0.3  1.   0.65 0.65 0.45 0.2  0.1  0.25 0.7  0.95\n",
      " 0.2  0.05 0.3  0.1  1.   0.9  0.1  1.   0.65 0.6  0.   0.35 0.1  0.65\n",
      " 0.15 0.15 1.   0.75 0.4  0.1  0.   0.   0.2  0.85 1.   0.15 0.1  0.65\n",
      " 0.1  0.5  0.95 0.15 0.   0.4  0.3  0.   0.1  0.55 0.85 0.55 0.   0.25\n",
      " 0.25 0.9  0.   0.1  0.05 0.9  0.2  0.2  0.05 1.   0.2  0.05 1.   0.\n",
      " 0.05 0.   1.   0.65 1.   0.55 0.45 1.   0.95 0.2  0.  ]\n"
     ]
    }
   ],
   "source": [
    "regressor = RandomForestRegressor(n_estimators=20, random_state=0)\n",
    "model = regressor.fit(x_train, y_train)\n",
    "acc = y_pred = regressor.predict(x_test)\n",
    "print(acc)"
   ]
  },
  {
   "cell_type": "code",
   "execution_count": null,
   "metadata": {},
   "outputs": [],
   "source": []
  }
 ],
 "metadata": {
  "kernelspec": {
   "display_name": "Python 3",
   "language": "python",
   "name": "python3"
  },
  "language_info": {
   "codemirror_mode": {
    "name": "ipython",
    "version": 3
   },
   "file_extension": ".py",
   "mimetype": "text/x-python",
   "name": "python",
   "nbconvert_exporter": "python",
   "pygments_lexer": "ipython3",
   "version": "3.8.5"
  }
 },
 "nbformat": 4,
 "nbformat_minor": 4
}
