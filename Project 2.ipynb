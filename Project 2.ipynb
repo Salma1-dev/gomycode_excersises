{
 "cells": [
  {
   "cell_type": "code",
   "execution_count": 36,
   "metadata": {},
   "outputs": [],
   "source": [
    "from random import randint\n",
    "var = 0\n",
    "usage_history = []\n",
    "days = []\n",
    "avarage_day = []\n",
    "for i in range(2400):\n",
    "    usage_history.append(randint(1,100))\n",
    "    days = [usage_history[x:x+24] for x in range(0,len(usage_history),24)]\n",
    "    average_day = sum (usage_history) / len(days)\n",
    "    \n",
    "# for i in range(len(usage_history)):\n",
    "    #if (i % 24 == 0)\n",
    "# for i in days:\n",
    "#     days = "
   ]
  },
  {
   "cell_type": "code",
   "execution_count": 37,
   "metadata": {},
   "outputs": [
    {
     "data": {
      "text/plain": [
       "1226.01"
      ]
     },
     "execution_count": 37,
     "metadata": {},
     "output_type": "execute_result"
    }
   ],
   "source": [
    "average_day"
   ]
  },
  {
   "cell_type": "code",
   "execution_count": null,
   "metadata": {},
   "outputs": [],
   "source": []
  }
 ],
 "metadata": {
  "kernelspec": {
   "display_name": "Python 3",
   "language": "python",
   "name": "python3"
  },
  "language_info": {
   "codemirror_mode": {
    "name": "ipython",
    "version": 3
   },
   "file_extension": ".py",
   "mimetype": "text/x-python",
   "name": "python",
   "nbconvert_exporter": "python",
   "pygments_lexer": "ipython3",
   "version": "3.8.5"
  }
 },
 "nbformat": 4,
 "nbformat_minor": 4
}
